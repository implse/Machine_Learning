{
 "cells": [
  {
   "cell_type": "markdown",
   "metadata": {
    "colab_type": "text",
    "id": "HCQ5V2RMjlUn"
   },
   "source": [
    "# Image Classification With K Nearest Neighbors Classifier"
   ]
  },
  {
   "cell_type": "markdown",
   "metadata": {},
   "source": [
    "![title](image/Numbers.png)"
   ]
  },
  {
   "cell_type": "code",
   "execution_count": 0,
   "metadata": {
    "colab": {},
    "colab_type": "code",
    "id": "UkqbzADGClKZ"
   },
   "outputs": [],
   "source": [
    "from sklearn.datasets import fetch_openml\n",
    "from sklearn.model_selection import train_test_split\n",
    "from sklearn.neighbors import KNeighborsClassifier\n",
    "import matplotlib.pyplot as plt\n",
    "import numpy as np"
   ]
  },
  {
   "cell_type": "code",
   "execution_count": 0,
   "metadata": {
    "colab": {},
    "colab_type": "code",
    "id": "jrfUV2vXDOqN"
   },
   "outputs": [],
   "source": [
    "# Fetch Mnist Dataset\n",
    "\n",
    "mnist = fetch_openml('mnist_784', version=1, cache=True)"
   ]
  },
  {
   "cell_type": "code",
   "execution_count": 66,
   "metadata": {
    "colab": {
     "base_uri": "https://localhost:8080/",
     "height": 34
    },
    "colab_type": "code",
    "id": "LO_R8EDDDVN5",
    "outputId": "6a1f0b13-ddaa-48b8-98d6-460090944ea6"
   },
   "outputs": [
    {
     "data": {
      "text/plain": [
       "(70000, 784)"
      ]
     },
     "execution_count": 66,
     "metadata": {
      "tags": []
     },
     "output_type": "execute_result"
    }
   ],
   "source": [
    "mnist.data.shape"
   ]
  },
  {
   "cell_type": "code",
   "execution_count": 0,
   "metadata": {
    "colab": {},
    "colab_type": "code",
    "id": "Tm1qTTDPXO17"
   },
   "outputs": [],
   "source": [
    "# Sort the Dataset (change in sklearn.datasets)\n",
    "\n",
    "def sort_by_target(mnist):\n",
    "    reorder_train = np.array(sorted([(target, i) for i, target in enumerate(mnist.target[:60000])]))[:, 1]\n",
    "    reorder_test = np.array(sorted([(target, i) for i, target in enumerate(mnist.target[60000:])]))[:, 1]\n",
    "    mnist.data[:60000] = mnist.data[reorder_train]\n",
    "    mnist.target[:60000] = mnist.target[reorder_train]\n",
    "    mnist.data[60000:] = mnist.data[reorder_test + 60000]\n",
    "    mnist.target[60000:] = mnist.target[reorder_test + 60000]\n",
    "\n",
    "try:\n",
    "    from sklearn.datasets import fetch_openml\n",
    "    mnist = fetch_openml('mnist_784', version=1, cache=True)\n",
    "    mnist.target = mnist.target.astype(np.int8) # fetch_openml() returns targets as strings\n",
    "    sort_by_target(mnist) # fetch_openml() returns an unsorted dataset\n",
    "except ImportError:\n",
    "    from sklearn.datasets import fetch_mldata\n",
    "    mnist = fetch_mldata('MNIST original')"
   ]
  },
  {
   "cell_type": "code",
   "execution_count": 0,
   "metadata": {
    "colab": {},
    "colab_type": "code",
    "id": "6oXwpCA4KVkh"
   },
   "outputs": [],
   "source": [
    "num_samples = 5000\n",
    "\n",
    "sample = np.random.randint(mnist.data.shape[0], size=num_samples)\n",
    "\n",
    "X = mnist.data[sample]\n",
    "y = mnist.target[sample]"
   ]
  },
  {
   "cell_type": "code",
   "execution_count": 69,
   "metadata": {
    "colab": {
     "base_uri": "https://localhost:8080/",
     "height": 362
    },
    "colab_type": "code",
    "id": "2nzKa7HuKwFs",
    "outputId": "5865f136-0e69-429f-b400-ebd5d71a2ca7"
   },
   "outputs": [
    {
     "data": {
      "image/png": "[encoded data removed]",
      "text/plain": [
       "<Figure size 576x396 with 16 Axes>"
      ]
     },
     "metadata": {
      "tags": []
     },
     "output_type": "display_data"
    }
   ],
   "source": [
    "# DataSet Image Preview\n",
    "\n",
    "sample_viz = X.reshape((-1, 28, 28))\n",
    "\n",
    "\n",
    "for index, val in enumerate(np.random.randint(num_samples, size=16)):\n",
    "  plt.subplot(4, 4, index+1)\n",
    "  plt.axis('off')\n",
    "  plt.imshow(sample_viz[val], cmap=plt.cm.gray_r, interpolation=\"nearest\")\n",
    "  plt.title('%i' % y[val])\n",
    "\n",
    "\n",
    "  \n",
    "  "
   ]
  },
  {
   "cell_type": "code",
   "execution_count": 70,
   "metadata": {
    "colab": {
     "base_uri": "https://localhost:8080/",
     "height": 70
    },
    "colab_type": "code",
    "id": "SybxK2PlM-7u",
    "outputId": "6159e452-1390-48a7-e71e-43c169cd4cb2"
   },
   "outputs": [
    {
     "name": "stderr",
     "output_type": "stream",
     "text": [
      "/usr/local/lib/python3.6/dist-packages/sklearn/model_selection/_split.py:2179: FutureWarning: From version 0.21, test_size will always complement train_size unless both are specified.\n",
      "  FutureWarning)\n"
     ]
    }
   ],
   "source": [
    "# Split the Dataset\n",
    "\n",
    "X_train, X_test, y_train, y_test = train_test_split(X, y, train_size=0.7)"
   ]
  },
  {
   "cell_type": "code",
   "execution_count": 74,
   "metadata": {
    "colab": {
     "base_uri": "https://localhost:8080/",
     "height": 67
    },
    "colab_type": "code",
    "id": "xQRz_gHaeDNk",
    "outputId": "1d6bb249-8ddb-4750-ba68-65668160f2e6"
   },
   "outputs": [
    {
     "data": {
      "text/plain": [
       "KNeighborsClassifier(algorithm='auto', leaf_size=30, metric='minkowski',\n",
       "           metric_params=None, n_jobs=None, n_neighbors=3, p=2,\n",
       "           weights='uniform')"
      ]
     },
     "execution_count": 74,
     "metadata": {
      "tags": []
     },
     "output_type": "execute_result"
    }
   ],
   "source": [
    "# K Nearest Neighbors\n",
    "\n",
    "knn = KNeighborsClassifier(3)\n",
    "\n",
    "knn.fit(X_train, y_train)"
   ]
  },
  {
   "cell_type": "code",
   "execution_count": 75,
   "metadata": {
    "colab": {
     "base_uri": "https://localhost:8080/",
     "height": 50
    },
    "colab_type": "code",
    "id": "NDAmP7VIfHts",
    "outputId": "2bbc730e-3958-48ab-d04d-22b4354dfa49"
   },
   "outputs": [
    {
     "name": "stdout",
     "output_type": "stream",
     "text": [
      "[4 4 2 5 9]\n",
      "[4 4 2 5 9]\n"
     ]
    }
   ],
   "source": [
    "# Predict\n",
    "\n",
    "print(knn.predict(X_train[10:15]))\n",
    "print(y_train[10:15])"
   ]
  },
  {
   "cell_type": "code",
   "execution_count": 76,
   "metadata": {
    "colab": {
     "base_uri": "https://localhost:8080/",
     "height": 34
    },
    "colab_type": "code",
    "id": "bDU5qcEpfoMK",
    "outputId": "6f0b0b9b-c95e-4434-d0c0-a12373e66e05"
   },
   "outputs": [
    {
     "data": {
      "text/plain": [
       "0.9591428571428572"
      ]
     },
     "execution_count": 76,
     "metadata": {
      "tags": []
     },
     "output_type": "execute_result"
    }
   ],
   "source": [
    "knn.score(X_train, y_train)"
   ]
  },
  {
   "cell_type": "code",
   "execution_count": 0,
   "metadata": {
    "colab": {},
    "colab_type": "code",
    "id": "ATiz_DxVftWB"
   },
   "outputs": [],
   "source": [
    "# k range \n",
    "\n",
    "k_range = range(2, 15)\n",
    "errors = []\n",
    "\n",
    "for k in k_range:\n",
    "  knn = KNeighborsClassifier(k)\n",
    "  knn.fit(X_train, y_train)\n",
    "  errors.append(1 - knn.score(X_test, y_test))\n",
    "  "
   ]
  },
  {
   "cell_type": "code",
   "execution_count": 94,
   "metadata": {
    "colab": {
     "base_uri": "https://localhost:8080/",
     "height": 361
    },
    "colab_type": "code",
    "id": "HMyQYRNOhWQ-",
    "outputId": "74153d75-f726-4d4d-ec7b-95df408ad4e2"
   },
   "outputs": [
    {
     "data": {
      "image/png": "[encoded data removed]",
      "text/plain": [
       "<Figure size 576x396 with 1 Axes>"
      ]
     },
     "metadata": {
      "tags": []
     },
     "output_type": "display_data"
    }
   ],
   "source": [
    "plt.plot(k_range, errors)\n",
    "plt.xlabel('k')\n",
    "plt.ylabel('error')\n",
    "plt.show()"
   ]
  },
  {
   "cell_type": "code",
   "execution_count": 90,
   "metadata": {
    "colab": {
     "base_uri": "https://localhost:8080/",
     "height": 34
    },
    "colab_type": "code",
    "id": "UhXrFAs_iGnP",
    "outputId": "00b4b421-440c-4dad-ae96-2c86ba382808"
   },
   "outputs": [
    {
     "data": {
      "text/plain": [
       "0.9591428571428572"
      ]
     },
     "execution_count": 90,
     "metadata": {
      "tags": []
     },
     "output_type": "execute_result"
    }
   ],
   "source": [
    "# K = 3\n",
    "\n",
    "knn = KNeighborsClassifier(3)\n",
    "\n",
    "knn.fit(X_train, y_train)\n",
    "\n",
    "\n",
    "knn.score(X_train, y_train)\n"
   ]
  },
  {
   "cell_type": "code",
   "execution_count": 84,
   "metadata": {
    "colab": {
     "base_uri": "https://localhost:8080/",
     "height": 34
    },
    "colab_type": "code",
    "id": "oIZ3waHUic7d",
    "outputId": "bc819220-973b-44fd-d182-2c2938636a37"
   },
   "outputs": [
    {
     "data": {
      "text/plain": [
       "0.9488571428571428"
      ]
     },
     "execution_count": 84,
     "metadata": {
      "tags": []
     },
     "output_type": "execute_result"
    }
   ],
   "source": [
    "# K = 4\n",
    "\n",
    "knn = KNeighborsClassifier(4)\n",
    "\n",
    "knn.fit(X_train, y_train)\n",
    "\n",
    "\n",
    "knn.score(X_train, y_train)"
   ]
  },
  {
   "cell_type": "code",
   "execution_count": 0,
   "metadata": {
    "colab": {},
    "colab_type": "code",
    "id": "I3FzqbIFivNX"
   },
   "outputs": [],
   "source": [
    "predict = knn.predict(X_test)"
   ]
  },
  {
   "cell_type": "code",
   "execution_count": 92,
   "metadata": {
    "colab": {
     "base_uri": "https://localhost:8080/",
     "height": 362
    },
    "colab_type": "code",
    "id": "bQkG3qGqi1fR",
    "outputId": "f111016c-af06-4694-f4ec-2d535c74818b"
   },
   "outputs": [
    {
     "data": {
      "image/png": "[encoded data removed]",
      "text/plain": [
       "<Figure size 576x396 with 16 Axes>"
      ]
     },
     "metadata": {
      "tags": []
     },
     "output_type": "display_data"
    }
   ],
   "source": [
    "# DataSet Image Preview\n",
    "\n",
    "predict_viz = X_test.reshape((-1, 28, 28))\n",
    "\n",
    "for index, val in enumerate(np.random.randint(predict.shape[0], size=16)):\n",
    "  plt.subplot(4, 4, index+1)\n",
    "  plt.axis('off')\n",
    "  plt.imshow(predict_viz[val], cmap=plt.cm.gray_r, interpolation=\"nearest\")\n",
    "  plt.title('%i' % predict[val])\n"
   ]
  },
  {
   "cell_type": "code",
   "execution_count": 93,
   "metadata": {
    "colab": {
     "base_uri": "https://localhost:8080/",
     "height": 362
    },
    "colab_type": "code",
    "id": "OQpbFKJIkaH4",
    "outputId": "0161492f-0b06-4643-cc04-d707b96cfec8"
   },
   "outputs": [
    {
     "data": {
      "image/png": "[encoded data removed]",
      "text/plain": [
       "<Figure size 576x396 with 16 Axes>"
      ]
     },
     "metadata": {
      "tags": []
     },
     "output_type": "display_data"
    }
   ],
   "source": [
    "# Missclassified Image\n",
    "\n",
    "predict_viz = X_test.reshape((-1, 28, 28))\n",
    "missclassified = predict_viz[y_test != predict]\n",
    "missclassified_labels = predict[y_test != predict]\n",
    "\n",
    "for index, val in enumerate(np.random.randint(missclassified.shape[0], size=16)):\n",
    "  plt.subplot(4, 4, index+1)\n",
    "  plt.axis('off')\n",
    "  plt.imshow(missclassified[val], cmap=plt.cm.gray_r, interpolation=\"nearest\")\n",
    "  plt.title('%i' % missclassified_labels[val])\n"
   ]
  }
 ],
 "metadata": {
  "colab": {
   "name": "K Nearest Neighbors Classifier.ipynb",
   "provenance": [],
   "version": "0.3.2"
  },
  "kernelspec": {
   "display_name": "Python 3",
   "language": "python",
   "name": "python3"
  },
  "language_info": {
   "codemirror_mode": {
    "name": "ipython",
    "version": 3
   },
   "file_extension": ".py",
   "mimetype": "text/x-python",
   "name": "python",
   "nbconvert_exporter": "python",
   "pygments_lexer": "ipython3",
   "version": "3.7.0"
  }
 },
 "nbformat": 4,
 "nbformat_minor": 1
}
